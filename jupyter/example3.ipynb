{
 "cells": [
  {
   "cell_type": "code",
   "execution_count": 1,
   "metadata": {},
   "outputs": [],
   "source": [
    "import cv2\n",
    "\n",
    "# rgb 이미지 불러오기\n",
    "image = cv2.imread('../app/static/img/cut_first_exact_dpi800/10.jpg')\n",
    "\n",
    "# 이미지 리사이징\n",
    "# fx, fy의 값이 작아질 수록 사진 작아짐\n",
    "image_rs= cv2.resize(image, dsize=(0, 0), fx=0.2, fy=0.2, interpolation=cv2.INTER_LINEAR)\n",
    "# rgb 이미지 보기\n",
    "cv2.imshow('example', image_rs)\n",
    "cv2.waitKey(0)\n",
    "\n",
    "# gray_scale 이미지 불러오기\n",
    "# 인수를 0으로 전달하면 gray 이미지가 로드된다.\n",
    "gray_image = cv2.imread('../app/static/img/cut_first_exact_dpi800/10.jpg', 0)\n",
    "image_rs= cv2.resize(gray_image, dsize=(0, 0), fx=0.2, fy=0.2, interpolation=cv2.INTER_LINEAR)\n",
    "# gray 이미지 보기\n",
    "cv2.imshow('example_gray', image_rs)\n",
    "\n",
    "cv2.waitKey(0)\n",
    "cv2.destroyAllWindows()"
   ]
  },
  {
   "cell_type": "code",
   "execution_count": null,
   "metadata": {},
   "outputs": [],
   "source": []
  }
 ],
 "metadata": {
  "kernelspec": {
   "display_name": "Python 3",
   "language": "python",
   "name": "python3"
  },
  "language_info": {
   "codemirror_mode": {
    "name": "ipython",
    "version": 3
   },
   "file_extension": ".py",
   "mimetype": "text/x-python",
   "name": "python",
   "nbconvert_exporter": "python",
   "pygments_lexer": "ipython3",
   "version": "3.8.3"
  }
 },
 "nbformat": 4,
 "nbformat_minor": 4
}
