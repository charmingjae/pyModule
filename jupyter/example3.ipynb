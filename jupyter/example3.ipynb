{
 "cells": [
  {
   "cell_type": "markdown",
   "metadata": {},
   "source": [
    "# 이미지 불러오기 & 회색조 변환"
   ]
  },
  {
   "cell_type": "code",
   "execution_count": 1,
   "metadata": {},
   "outputs": [],
   "source": [
    "import cv2\n",
    "\n",
    "# rgb 이미지 불러오기\n",
    "image = cv2.imread('../app/static/img/cut_first_exact_dpi800/10.jpg')\n",
    "\n",
    "# 이미지 리사이징\n",
    "# fx, fy의 값이 작아질 수록 사진 작아짐\n",
    "image_rs= cv2.resize(image, dsize=(0, 0), fx=0.2, fy=0.2, interpolation=cv2.INTER_LINEAR)\n",
    "# rgb 이미지 보기\n",
    "cv2.imshow('example', image_rs)\n",
    "cv2.waitKey(0)\n",
    "\n",
    "# gray_scale 이미지 불러오기\n",
    "# 인수를 0으로 전달하면 gray 이미지가 로드된다.\n",
    "gray_image = cv2.imread('../app/static/img/cut_first_exact_dpi800/10.jpg', 0)\n",
    "image_rs= cv2.resize(gray_image, dsize=(0, 0), fx=0.2, fy=0.2, interpolation=cv2.INTER_LINEAR)\n",
    "# gray 이미지 보기\n",
    "cv2.imshow('example_gray', image_rs)\n",
    "\n",
    "cv2.waitKey(0)\n",
    "cv2.destroyAllWindows()"
   ]
  },
  {
   "cell_type": "markdown",
   "metadata": {},
   "source": [
    "# 이미지 사각형 검출\n",
    "### 외곽선에 동그라미 그리기"
   ]
  },
  {
   "cell_type": "code",
   "execution_count": null,
   "metadata": {},
   "outputs": [],
   "source": [
    "\n",
    "\n",
    "import cv2 as cv\n",
    "\n",
    "img_color = cv.imread('../app/static/img/cut_first_exact_dpi800/10.jpg')\n",
    "img_gray = cv.cvtColor(img_color, cv.COLOR_BGR2GRAY)\n",
    "ret, img_binary = cv.threshold(img_gray, 127, 255, 0)\n",
    "contours, hierarchy = cv.findContours(img_binary, cv.RETR_LIST, cv.CHAIN_APPROX_SIMPLE) # 컨투어 검출\n",
    "\n",
    "for cnt in contours:\n",
    "    for p in cnt:\n",
    "        cv.circle(img_color, (p[0][0], p[0][1]), 10, (255, 0, 0), -1) # 모든좌표마다 파란원을 그리도록 함\n",
    "    \n",
    "\n",
    "cv.imshow(\"result\", img_color)\n",
    "cv.waitKey(0)"
   ]
  },
  {
   "cell_type": "markdown",
   "metadata": {},
   "source": [
    "# 이미지 컨투어 검출"
   ]
  },
  {
   "cell_type": "code",
   "execution_count": null,
   "metadata": {},
   "outputs": [],
   "source": [
    "import cv2, sys\n",
    "from matplotlib import pyplot as plt\n",
    "import numpy as np\n",
    "\n",
    "image = cv2.imread('../app/static/img/cut_first_exact_dpi800/9.jpg')\n",
    "\n",
    "image_rs= cv2.resize(image, dsize=(0, 0), fx=0.2, fy=0.2, interpolation=cv2.INTER_LINEAR)\n",
    "\n",
    "image_gray = cv2.imread('../app/static/img/cut_first_exact_dpi800/9.jpg', cv2.IMREAD_GRAYSCALE)\n",
    "\n",
    "image_gray_rs= cv2.resize(image_gray, dsize=(0, 0), fx=0.2, fy=0.2, interpolation=cv2.INTER_LINEAR)\n",
    "\n",
    "# cv2.imshow('image', image_rs)\n",
    "# cv2.imshow('image_gray', image_gray_rs)\n",
    "blur = cv2.GaussianBlur(image_gray_rs, ksize=(3,5), sigmaX=0)\n",
    "ret, thresh1 = cv2.threshold(blur, 127, 255, cv2.THRESH_BINARY)\n",
    "\n",
    "\n",
    "    \n",
    "    \n",
    "edged = cv2.Canny(blur, 10, 250)\n",
    "kernel = cv2.getStructuringElement(cv2.MORPH_RECT, (7,7))\n",
    "# closed = cv2.morphologyEx(edged, cv2.MORPH_CLOSE, kernel)\n",
    "\n",
    "contours, _ = cv2.findContours(edged.copy(),cv2.RETR_EXTERNAL, cv2.CHAIN_APPROX_SIMPLE)\n",
    "total = 0\n",
    "contours_image = cv2.drawContours(image, contours, -1, (0,255,0), 3)\n",
    "cv2.imshow('contours_image', contours_image)\n",
    "# cv2.imshow('closed', closed)\n",
    "cv2.waitKey(0)"
   ]
  },
  {
   "cell_type": "code",
   "execution_count": null,
   "metadata": {},
   "outputs": [],
   "source": []
  }
 ],
 "metadata": {
  "kernelspec": {
   "display_name": "Python 3",
   "language": "python",
   "name": "python3"
  },
  "language_info": {
   "codemirror_mode": {
    "name": "ipython",
    "version": 3
   },
   "file_extension": ".py",
   "mimetype": "text/x-python",
   "name": "python",
   "nbconvert_exporter": "python",
   "pygments_lexer": "ipython3",
   "version": "3.8.3"
  }
 },
 "nbformat": 4,
 "nbformat_minor": 4
}
