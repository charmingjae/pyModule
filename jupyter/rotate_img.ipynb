{
 "cells": [
  {
   "cell_type": "code",
   "execution_count": null,
   "metadata": {},
   "outputs": [],
   "source": [
    "import cv2\n",
    "\n",
    "src = cv2.imread(\"../app/static/img/cut_first_exact_dpi800/1.jpg\", cv2.IMREAD_COLOR)\n",
    "\n",
    "# height, width, channel = src.shape\n",
    "# matrix = cv2.getRotationMatrix2D((width/2, height/2), 90, 1)\n",
    "# dst = cv2.warpAffine(src, matrix, (width, height))\n",
    "# 이미지 회전\n",
    "\n",
    "height, width = src.shape[:2]\n",
    "M = cv2.getRotationMatrix2D((width/2.0, height/2.0), #회전 중심\n",
    "                            45, # 회전각도(양수 반시계방향, 음수 시계방향)\n",
    "                            1) # 이미지 배율\n",
    "img_rotation = cv2.warpAffine(src, M, (width, height))\n",
    "\n",
    "cv2.imwrite('../app/static/img/cut_first_exact_dpi800/rotated.jpg', img_rotation)\n",
    "\n",
    "cv2.imshow(\"dst\", img_rotation)\n",
    "cv2.waitKey(0)\n",
    "cv2.destroyAllWindows()"
   ]
  },
  {
   "cell_type": "code",
   "execution_count": null,
   "metadata": {},
   "outputs": [],
   "source": []
  }
 ],
 "metadata": {
  "kernelspec": {
   "display_name": "Python 3",
   "language": "python",
   "name": "python3"
  },
  "language_info": {
   "codemirror_mode": {
    "name": "ipython",
    "version": 3
   },
   "file_extension": ".py",
   "mimetype": "text/x-python",
   "name": "python",
   "nbconvert_exporter": "python",
   "pygments_lexer": "ipython3",
   "version": "3.8.3"
  }
 },
 "nbformat": 4,
 "nbformat_minor": 4
}
